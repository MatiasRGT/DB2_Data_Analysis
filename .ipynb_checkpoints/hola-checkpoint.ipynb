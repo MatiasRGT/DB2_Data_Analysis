{
 "cells": [
  {
   "cell_type": "code",
   "execution_count": 2,
   "id": "03b75c20-78f0-40ca-9c6f-d57cd225dbdf",
   "metadata": {},
   "outputs": [
    {
     "name": "stdout",
     "output_type": "stream",
     "text": [
      "hola\n"
     ]
    }
   ],
   "source": [
    "print('hola')"
   ]
  },
  {
   "cell_type": "code",
   "execution_count": null,
   "id": "1e219470-1fd6-4be1-a9f6-2cbb74e5edf6",
   "metadata": {},
   "outputs": [],
   "source": [
    "dasdas"
   ]
  },
  {
   "cell_type": "markdown",
   "id": "fe288285-e9eb-4a12-ab61-6579dd96e3fd",
   "metadata": {},
   "source": [
    "# joja\n"
   ]
  },
  {
   "cell_type": "code",
   "execution_count": 1,
   "id": "1fba4688-6fb3-4353-84b1-71115d30f5d9",
   "metadata": {},
   "outputs": [
    {
     "name": "stdout",
     "output_type": "stream",
     "text": [
      "chao\n"
     ]
    }
   ],
   "source": [
    "print('chao')"
   ]
  }
 ],
 "metadata": {
  "kernelspec": {
   "display_name": "Python 3 (ipykernel)",
   "language": "python",
   "name": "python3"
  },
  "language_info": {
   "codemirror_mode": {
    "name": "ipython",
    "version": 3
   },
   "file_extension": ".py",
   "mimetype": "text/x-python",
   "name": "python",
   "nbconvert_exporter": "python",
   "pygments_lexer": "ipython3",
   "version": "3.11.6"
  }
 },
 "nbformat": 4,
 "nbformat_minor": 5
}
