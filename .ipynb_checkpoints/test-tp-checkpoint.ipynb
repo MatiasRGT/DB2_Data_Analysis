{
 "cells": [
  {
   "cell_type": "markdown",
   "id": "98b77101-b510-4dea-9f7f-5caea16cde5a",
   "metadata": {},
   "source": [
    "# HOla\n",
    "esto esta escrito desde TP\n"
   ]
  }
 ],
 "metadata": {
  "kernelspec": {
   "display_name": "Python 3 (ipykernel)",
   "language": "python",
   "name": "python3"
  },
  "language_info": {
   "codemirror_mode": {
    "name": "ipython",
    "version": 3
   },
   "file_extension": ".py",
   "mimetype": "text/x-python",
   "name": "python",
   "nbconvert_exporter": "python",
   "pygments_lexer": "ipython3",
   "version": "3.11.6"
  }
 },
 "nbformat": 4,
 "nbformat_minor": 5
}
