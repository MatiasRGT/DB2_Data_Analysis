{
 "cells": [
  {
   "cell_type": "markdown",
   "id": "98b77101-b510-4dea-9f7f-5caea16cde5a",
   "metadata": {},
   "source": [
    "# HOla\n",
    "esto esta escrito desde TP\n"
   ]
  },
  {
   "cell_type": "code",
   "execution_count": 1,
   "id": "30cb40bc-6e07-4bcc-9d6c-58e4d83c7121",
   "metadata": {},
   "outputs": [
    {
     "name": "stdout",
     "output_type": "stream",
     "text": [
      "hola\n"
     ]
    }
   ],
   "source": [
    "! echo hola"
   ]
  }
 ],
 "metadata": {
  "kernelspec": {
   "display_name": "Python 3 (ipykernel)",
   "language": "python",
   "name": "python3"
  },
  "language_info": {
   "codemirror_mode": {
    "name": "ipython",
    "version": 3
   },
   "file_extension": ".py",
   "mimetype": "text/x-python",
   "name": "python",
   "nbconvert_exporter": "python",
   "pygments_lexer": "ipython3",
   "version": "3.11.6"
  }
 },
 "nbformat": 4,
 "nbformat_minor": 5
}
